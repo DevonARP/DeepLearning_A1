{
 "cells": [
  {
   "cell_type": "code",
   "execution_count": 1,
   "id": "3b010fc6-273c-4b9c-9096-f082a2ef90c8",
   "metadata": {},
   "outputs": [],
   "source": [
    "import numpy as np\n",
    "import torch\n",
    "import torchvision\n",
    "import matplotlib.pyplot as plt"
   ]
  },
  {
   "cell_type": "code",
   "execution_count": 2,
   "id": "ec9222a2-7e48-461d-b380-b785937560ad",
   "metadata": {},
   "outputs": [],
   "source": [
    "trainingdata = torchvision . datasets. FashionMNIST ('./FashionMNIST/', train=True ,download=True , transform = torchvision . transforms . ToTensor ())\n",
    "testdata = torchvision .datasets. FashionMNIST ('./FashionMNIST/', train=False ,download=True , transform = torchvision . transforms . ToTensor ())"
   ]
  },
  {
   "cell_type": "code",
   "execution_count": 3,
   "id": "305765cb-dd09-44ec-a9c7-995da787cecf",
   "metadata": {},
   "outputs": [
    {
     "name": "stdout",
     "output_type": "stream",
     "text": [
      "60000\n",
      "10000\n"
     ]
    }
   ],
   "source": [
    "print(len(trainingdata)) #Training data length\n",
    "print(len(testdata)) #Testing data length"
   ]
  },
  {
   "cell_type": "code",
   "execution_count": 4,
   "id": "b1c0c590-6466-4a06-8201-b206da003090",
   "metadata": {},
   "outputs": [
    {
     "name": "stdout",
     "output_type": "stream",
     "text": [
      "torch.Size([64, 1, 28, 28])\n",
      "torch.Size([64])\n"
     ]
    }
   ],
   "source": [
    "trainDataLoader = torch.utils.data.DataLoader(trainingdata,batch_size=64,shuffle=True) #Making it iterable\n",
    "testDataLoader = torch.utils.data.DataLoader(testdata,batch_size=64,shuffle=False)\n",
    "images, labels = next(iter(trainDataLoader))\n",
    "print(images.shape)\n",
    "print(labels.shape)"
   ]
  },
  {
   "cell_type": "code",
   "execution_count": 5,
   "id": "693069cb-6573-4dc4-bfbb-457047f1716b",
   "metadata": {},
   "outputs": [],
   "source": [
    "class Model(torch.nn.Module):\n",
    "  def __init__(self):\n",
    "    super(Model, self).__init__()\n",
    "    self.linear = torch.nn.Linear(784, 256) #764 inputs and 256 outputs\n",
    "    self.activation = torch.nn.ReLU() #Activation function\n",
    "    self.linear2 = torch.nn.Linear(256, 128)\n",
    "    self.activation2 = torch.nn.ReLU()\n",
    "    self.linear3 = torch.nn.Linear(128, 64)\n",
    "    self.activation3 = torch.nn.ReLU()\n",
    "    self.linear4 = torch.nn.Linear(64, 10) #10 categories\n",
    "\n",
    "  def forward(self, x):\n",
    "    x = x.view(-1, 28*28) #Vectorize\n",
    "    x = self.linear(x)\n",
    "    x = self.activation(x)\n",
    "    x = self.linear2(x)\n",
    "    x = self.activation2(x)\n",
    "    x = self.linear3(x)\n",
    "    x = self.activation3(x)\n",
    "    x = self.linear4(x)\n",
    "    return x"
   ]
  },
  {
   "cell_type": "code",
   "execution_count": 6,
   "id": "8dc2ad35-8950-4c70-ab42-cdea06cb8ab8",
   "metadata": {},
   "outputs": [],
   "source": [
    "model = Model()\n",
    "loss = torch.nn.CrossEntropyLoss() \n",
    "optimizer = torch.optim.SGD(model.parameters(), lr=0.01) "
   ]
  },
  {
   "cell_type": "code",
   "execution_count": 7,
   "id": "4f17e6bb-f290-4d42-abc4-164c54858a62",
   "metadata": {},
   "outputs": [],
   "source": [
    "device = torch.device('cuda' if torch.cuda.is_available() else 'cpu') #Mine isn't setup as I have a new computer\n",
    "#Note to follow this guide for setup: https://youtu.be/hHWkvEcDBO0?si=MnJQsm7fIhbEes74\n",
    "model = model.to(device)"
   ]
  },
  {
   "cell_type": "code",
   "execution_count": 8,
   "id": "e44ad80d-3ae5-45dd-9f75-7ecdf41cbbbc",
   "metadata": {},
   "outputs": [],
   "source": [
    "train_losses = []\n",
    "test_losses = []"
   ]
  },
  {
   "cell_type": "code",
   "execution_count": 9,
   "id": "ea148dd0-95dc-4924-a7ca-fa28eaccf290",
   "metadata": {},
   "outputs": [
    {
     "name": "stdout",
     "output_type": "stream",
     "text": [
      "Epoch 0, Train loss 1787.3244709968567, Test loss 362.3181862831116\n",
      "Epoch 1, Train loss 875.131316781044, Test loss 184.43580251932144\n",
      "Epoch 2, Train loss 657.0507292747498, Test loss 127.7506094276905\n",
      "Epoch 3, Train loss 570.6527071595192, Test loss 104.46469113230705\n",
      "Epoch 4, Train loss 523.0395578444004, Test loss 94.95994547009468\n",
      "Epoch 5, Train loss 489.00073251128197, Test loss 112.74039062857628\n",
      "Epoch 6, Train loss 464.0913973748684, Test loss 85.38151663541794\n",
      "Epoch 7, Train loss 446.2029498517513, Test loss 81.49660468101501\n",
      "Epoch 8, Train loss 429.4090850651264, Test loss 90.68424804508686\n",
      "Epoch 9, Train loss 416.1134061217308, Test loss 79.3811206817627\n"
     ]
    }
   ],
   "source": [
    "for epoch in range(10): # We'll train for 10 \"epochs\"\n",
    "  train_loss = 0\n",
    "  test_loss = 0\n",
    "\n",
    "  for data in testDataLoader: #Predicts test data\n",
    "    images, labels = data\n",
    "    images, labels = images.to(device), labels.to(device)\n",
    "    predicted_output = model(images)\n",
    "    fit = loss(predicted_output, labels)\n",
    "    test_loss += fit.item()\n",
    "\n",
    "  for data in trainDataLoader: #Predicts train data\n",
    "    images, labels = data\n",
    "    images, labels = images.to(device), labels.to(device)\n",
    "    optimizer.zero_grad() # Zero out the gradient values\n",
    "    predicted_output = model(images)\n",
    "    fit = loss(predicted_output, labels) # Measure how well the predicted output matches the labels\n",
    "    fit.backward() # Compute the gradient of the fit with respect to the model parameters\n",
    "    optimizer.step() # Update the weights in the model using gradient descent\n",
    "    train_loss += fit.item()\n",
    "\n",
    "  train_losses += [train_loss/len(trainDataLoader)]\n",
    "  test_losses += [test_loss/len(testDataLoader)]\n",
    "\n",
    "  print(f'Epoch {epoch}, Train loss {train_loss}, Test loss {test_loss}')\n"
   ]
  },
  {
   "cell_type": "code",
   "execution_count": 10,
   "id": "11d0452d-0d4b-45e3-bcff-d4fc02c36954",
   "metadata": {},
   "outputs": [
    {
     "data": {
      "image/png": "[encoded data removed]",
      "text/plain": [
       "<Figure size 640x480 with 1 Axes>"
      ]
     },
     "metadata": {},
     "output_type": "display_data"
    }
   ],
   "source": [
    "plt.plot(range(10),train_losses, label='Train error')\n",
    "plt.plot(range(10),test_losses, label='Test error')\n",
    "plt.xlabel('Epoch')\n",
    "plt.ylabel('Loss')\n",
    "plt.legend()\n",
    "plt.show()"
   ]
  },
  {
   "cell_type": "code",
   "execution_count": 11,
   "id": "72bd5781-d06c-47ce-8472-0c16575d9a65",
   "metadata": {},
   "outputs": [
    {
     "name": "stdout",
     "output_type": "stream",
     "text": [
      "Predicted: tensor([0, 3, 7, 1, 9, 8, 4, 3, 0, 2, 5, 6, 9, 0, 9, 2, 1, 1, 9, 7, 6, 8, 2, 2,\n",
      "        0, 3, 2, 0, 7, 4, 7, 0])\n",
      "Labels: tensor([6, 3, 7, 1, 9, 8, 4, 3, 0, 2, 5, 0, 9, 0, 9, 6, 1, 1, 7, 7, 6, 8, 2, 2,\n",
      "        0, 3, 4, 0, 7, 4, 7, 0])\n"
     ]
    }
   ],
   "source": [
    "predicted_classes = torch.max(predicted_output, 1)[1] #Isn't perfect\n",
    "print('Predicted:', predicted_classes)\n",
    "print('Labels:', labels)"
   ]
  },
  {
   "cell_type": "code",
   "execution_count": 12,
   "id": "8b61c6fb-7f92-4b70-8fb8-dd99f24aed76",
   "metadata": {},
   "outputs": [],
   "source": [
    "i = 30\n",
    "j = 20\n",
    "k = 10"
   ]
  },
  {
   "cell_type": "code",
   "execution_count": 13,
   "id": "c01551d5-faf5-4da9-a162-19454ded0528",
   "metadata": {},
   "outputs": [
    {
     "name": "stdout",
     "output_type": "stream",
     "text": [
      "Predicted: 7\n",
      "Labels: 7\n"
     ]
    },
    {
     "data": {
      "image/png": "[encoded data removed]",
      "text/plain": [
       "<Figure size 640x480 with 1 Axes>"
      ]
     },
     "metadata": {},
     "output_type": "display_data"
    }
   ],
   "source": [
    "print('Predicted:', predicted_classes[i].item())\n",
    "print('Labels:', labels[i].item())\n",
    "plt.imshow(images[i].squeeze().cpu()) # Visualize iamge\n",
    "plt.show()"
   ]
  },
  {
   "cell_type": "markdown",
   "id": "cd088f4a-a067-41a5-a926-d5ca18d18949",
   "metadata": {},
   "source": [
    "The prediction for item 30 is correct since it was categorized as a shoe and it is predicted to be a shoe."
   ]
  },
  {
   "cell_type": "code",
   "execution_count": 17,
   "id": "9d3fbffa-fbc2-4dcd-a93c-54f6fa49e2c1",
   "metadata": {},
   "outputs": [
    {
     "name": "stdout",
     "output_type": "stream",
     "text": [
      "Predicted: 6\n",
      "Labels: 6\n"
     ]
    },
    {
     "data": {
      "image/png": "[encoded data removed]",
      "text/plain": [
       "<Figure size 640x480 with 1 Axes>"
      ]
     },
     "metadata": {},
     "output_type": "display_data"
    }
   ],
   "source": [
    "print('Predicted:', predicted_classes[j].item())\n",
    "print('Labels:', labels[j].item())\n",
    "plt.imshow(images[j].squeeze().cpu()) # Visualize iamge\n",
    "plt.show()"
   ]
  },
  {
   "cell_type": "markdown",
   "id": "3f299f78-fd81-4226-949f-b7c22c353b46",
   "metadata": {},
   "source": [
    "The prediction for item 20 is correct since it was categorized as a shirt and it is predicted to be a shirt."
   ]
  },
  {
   "cell_type": "code",
   "execution_count": 18,
   "id": "0349abbc-d7aa-40bf-8209-527ccbb324ce",
   "metadata": {},
   "outputs": [
    {
     "name": "stdout",
     "output_type": "stream",
     "text": [
      "Predicted: 5\n",
      "Labels: 5\n"
     ]
    },
    {
     "data": {
      "image/png": "[encoded data removed]",
      "text/plain": [
       "<Figure size 640x480 with 1 Axes>"
      ]
     },
     "metadata": {},
     "output_type": "display_data"
    }
   ],
   "source": [
    "print('Predicted:', predicted_classes[k].item())\n",
    "print('Labels:', labels[k].item())\n",
    "plt.imshow(images[k].squeeze().cpu()) # Visualize iamge\n",
    "plt.show()"
   ]
  },
  {
   "cell_type": "markdown",
   "id": "33683935-9e2a-46d8-b8ff-ccf36fedb500",
   "metadata": {},
   "source": [
    "The prediction for item 10 is correct since although I do not know what it is."
   ]
  },
  {
   "cell_type": "code",
   "execution_count": 20,
   "id": "d9ea0377-407e-4c56-8d93-145c28ede850",
   "metadata": {},
   "outputs": [
    {
     "name": "stdout",
     "output_type": "stream",
     "text": [
      "Predicted: 3\n",
      "Labels: 3\n"
     ]
    },
    {
     "data": {
      "image/png": "[encoded data removed]",
      "text/plain": [
       "<Figure size 640x480 with 1 Axes>"
      ]
     },
     "metadata": {},
     "output_type": "display_data"
    }
   ],
   "source": [
    "x = 1\n",
    "print('Predicted:', predicted_classes[x].item())\n",
    "print('Labels:', labels[x].item())\n",
    "plt.imshow(images[x].squeeze().cpu()) # Visualize iamge\n",
    "plt.show()"
   ]
  },
  {
   "cell_type": "markdown",
   "id": "70f06fa8-138a-40d9-acb5-12f24f70c87c",
   "metadata": {},
   "source": [
    "The prediction for item 1 is correct since it was categorized as a dress and it is predicted to be a dress."
   ]
  },
  {
   "cell_type": "code",
   "execution_count": null,
   "id": "cef8b3ae-3761-41ae-8147-6363520ddaec",
   "metadata": {},
   "outputs": [],
   "source": []
  }
 ],
 "metadata": {
  "kernelspec": {
   "display_name": "Python 3 (ipykernel)",
   "language": "python",
   "name": "python3"
  },
  "language_info": {
   "codemirror_mode": {
    "name": "ipython",
    "version": 3
   },
   "file_extension": ".py",
   "mimetype": "text/x-python",
   "name": "python",
   "nbconvert_exporter": "python",
   "pygments_lexer": "ipython3",
   "version": "3.10.0"
  }
 },
 "nbformat": 4,
 "nbformat_minor": 5
}
