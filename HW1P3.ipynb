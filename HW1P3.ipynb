{
 "cells": [
  {
   "cell_type": "code",
   "execution_count": null,
   "id": "3bc31a81-06e2-4a37-afd9-4a5d5ca54b54",
   "metadata": {},
   "outputs": [],
   "source": [
    "import numpy as np\n",
    "from scipy.optimize import fsolve"
   ]
  },
  {
   "cell_type": "markdown",
   "id": "9041b992-bee2-42e4-8345-e5eee2c4ef6d",
   "metadata": {},
   "source": [
    "Possible to have different answers for these datasets, but they will all be pretty close to making the dataset work"
   ]
  },
  {
   "cell_type": "markdown",
   "id": "5f96ee2a-5d21-4e57-b805-3bb42181226c",
   "metadata": {},
   "source": [
    "Dataset 1"
   ]
  },
  {
   "cell_type": "code",
   "execution_count": 2,
   "id": "ba137701-09fc-40f8-b439-2b939901f681",
   "metadata": {},
   "outputs": [],
   "source": [
    "def f(p): #Formula's followed in the neural network plus the addition of subtracting the outout value, as fsolve revolves around making the equation equal to 0\n",
    "    input = [0,1,2,3,4,5,6,7,8,9,10,11,12]\n",
    "    output = [8, 6, 4, 2, 0, 2, 4, 2, 0, 2, 4, 6, 8]\n",
    "    return [p[12] + p[8]*max(0,p[0]*input[0] + p[4]) + p[9]*max(0,p[1]*input[0] + p[5]) + p[10]*max(0,p[2]*input[0] + p[6]) + p[11]*max(0,p[3]*input[0] + p[7]) - output[0],\n",
    "    p[12] + p[8]*max(0,p[0]*input[1] + p[4]) + p[9]*max(0,p[1]*input[1] + p[5]) + p[10]*max(0,p[2]*input[1] + p[6]) + p[11]*max(0,p[3]*input[1] + p[7]) - output[1],\n",
    "    p[12] + p[8]*max(0,p[0]*input[2] + p[4]) + p[9]*max(0,p[1]*input[2] + p[5]) + p[10]*max(0,p[2]*input[2] + p[6]) + p[11]*max(0,p[3]*input[2] + p[7]) - output[2],\n",
    "    p[12] + p[8]*max(0,p[0]*input[3] + p[4]) + p[9]*max(0,p[1]*input[3] + p[5]) + p[10]*max(0,p[2]*input[3] + p[6]) + p[11]*max(0,p[3]*input[3] + p[7]) - output[3],\n",
    "    p[12] + p[8]*max(0,p[0]*input[4] + p[4]) + p[9]*max(0,p[1]*input[4] + p[5]) + p[10]*max(0,p[2]*input[4] + p[6]) + p[11]*max(0,p[3]*input[4] + p[7]) - output[4],\n",
    "    p[12] + p[8]*max(0,p[0]*input[5] + p[4]) + p[9]*max(0,p[1]*input[5] + p[5]) + p[10]*max(0,p[2]*input[5] + p[6]) + p[11]*max(0,p[3]*input[5] + p[7]) - output[5],\n",
    "    p[12] + p[8]*max(0,p[0]*input[6] + p[4]) + p[9]*max(0,p[1]*input[6] + p[5]) + p[10]*max(0,p[2]*input[6] + p[6]) + p[11]*max(0,p[3]*input[6] + p[7]) - output[6],\n",
    "    p[12] + p[8]*max(0,p[0]*input[7] + p[4]) + p[9]*max(0,p[1]*input[7] + p[5]) + p[10]*max(0,p[2]*input[7] + p[6]) + p[11]*max(0,p[3]*input[7] + p[7]) - output[7],\n",
    "    p[12] + p[8]*max(0,p[0]*input[8] + p[4]) + p[9]*max(0,p[1]*input[8] + p[5]) + p[10]*max(0,p[2]*input[8] + p[6]) + p[11]*max(0,p[3]*input[8] + p[7]) - output[8],\n",
    "    p[12] + p[8]*max(0,p[0]*input[9] + p[4]) + p[9]*max(0,p[1]*input[9] + p[5]) + p[10]*max(0,p[2]*input[9] + p[6]) + p[11]*max(0,p[3]*input[9] + p[7]) - output[9],\n",
    "    p[12] + p[8]*max(0,p[0]*input[10] + p[4]) + p[9]*max(0,p[1]*input[10] + p[5]) + p[10]*max(0,p[2]*input[10] + p[6]) + p[11]*max(0,p[3]*input[10] + p[7]) - output[10],\n",
    "    p[12] + p[8]*max(0,p[0]*input[11] + p[4]) + p[9]*max(0,p[1]*input[11] + p[5]) + p[10]*max(0,p[2]*input[11] + p[6]) + p[11]*max(0,p[3]*input[11] + p[7]) - output[11],\n",
    "    p[12] + p[8]*max(0,p[0]*input[12] + p[4]) + p[9]*max(0,p[1]*input[12] + p[5]) + p[10]*max(0,p[2]*input[12] + p[6]) + p[11]*max(0,p[3]*input[12] + p[7]) - output[12]]"
   ]
  },
  {
   "cell_type": "code",
   "execution_count": 3,
   "id": "cbd5d135-d42f-498c-9348-a6df351eebfb",
   "metadata": {},
   "outputs": [
    {
     "name": "stderr",
     "output_type": "stream",
     "text": [
      "C:\\Users\\Anil\\AppData\\Local\\Programs\\Python\\Python310\\lib\\site-packages\\scipy\\optimize\\_minpack_py.py:177: RuntimeWarning: The iteration is not making good progress, as measured by the \n",
      "  improvement from the last ten iterations.\n",
      "  warnings.warn(msg, RuntimeWarning)\n",
      "C:\\Users\\Anil\\AppData\\Local\\Programs\\Python\\Python310\\lib\\site-packages\\scipy\\optimize\\_minpack_py.py:177: RuntimeWarning: The iteration is not making good progress, as measured by the \n",
      "  improvement from the last five Jacobian evaluations.\n",
      "  warnings.warn(msg, RuntimeWarning)\n"
     ]
    },
    {
     "data": {
      "text/plain": [
       "array([-7.82455998e-01, -5.16665284e-01,  1.32120087e+00, -3.55189485e+00,\n",
       "        6.25964798e+00,  3.09863545e+00, -1.05696070e+01,  1.42169031e+01,\n",
       "        2.55605428e+00, -7.76233237e+00,  1.51377436e+00,  1.12912342e+00,\n",
       "        2.69958647e-11])"
      ]
     },
     "execution_count": 3,
     "metadata": {},
     "output_type": "execute_result"
    }
   ],
   "source": [
    "initial_guess = np.random.normal(size =13)\n",
    "solution = fsolve(f, initial_guess)\n",
    "while not(np.all(np.isclose(f(solution),[0]*13)==True)):\n",
    "  new_guess = np.random.normal(size =13)\n",
    "\n",
    "  solution = fsolve(f, new_guess)\n",
    "solution"
   ]
  },
  {
   "cell_type": "code",
   "execution_count": 4,
   "id": "1aaa69da-87d4-42d6-98fd-032038a10961",
   "metadata": {},
   "outputs": [
    {
     "data": {
      "text/plain": [
       "[-1.751665479332587e-11,\n",
       " -2.9530156098189764e-11,\n",
       " -4.154543375989306e-11,\n",
       " -5.356071142159635e-11,\n",
       " -6.557229412229582e-11,\n",
       " -1.637445734559151e-11,\n",
       " -6.759481863127803e-12,\n",
       " -1.2145839889399213e-12,\n",
       " 2.6995864717007652e-11,\n",
       " 3.0686564400639327e-13,\n",
       " 2.851052727237402e-13,\n",
       " 2.6290081223123707e-13,\n",
       " 2.398081733190338e-13]"
      ]
     },
     "execution_count": 4,
     "metadata": {},
     "output_type": "execute_result"
    }
   ],
   "source": [
    "f(solution) #Closer to 0 the better"
   ]
  },
  {
   "cell_type": "markdown",
   "id": "5422ae78-be12-453e-b6ec-178c33d2d569",
   "metadata": {},
   "source": [
    "Dataset 2"
   ]
  },
  {
   "cell_type": "code",
   "execution_count": 5,
   "id": "b68a993c-c5e4-4c80-bef9-d0f45b7d8309",
   "metadata": {},
   "outputs": [],
   "source": [
    "def f(p): #Added 2 repetitive lines at the bottom of this one so that the shape would line up but it doesn't affect the actual results\n",
    "    input = [0,1,2,3,4,5,6,7,8,9,10]\n",
    "    output = [0,1,2,3,2,1,2,3,4,5,6]\n",
    "    return [p[12] + p[8]*max(0,p[0]*input[0] + p[4]) + p[9]*max(0,p[1]*input[0] + p[5]) + p[10]*max(0,p[2]*input[0] + p[6]) + p[11]*max(0,p[3]*input[0] + p[7]) - output[0],\n",
    "    p[12] + p[8]*max(0,p[0]*input[1] + p[4]) + p[9]*max(0,p[1]*input[1] + p[5]) + p[10]*max(0,p[2]*input[1] + p[6]) + p[11]*max(0,p[3]*input[1] + p[7]) - output[1],\n",
    "    p[12] + p[8]*max(0,p[0]*input[2] + p[4]) + p[9]*max(0,p[1]*input[2] + p[5]) + p[10]*max(0,p[2]*input[2] + p[6]) + p[11]*max(0,p[3]*input[2] + p[7]) - output[2],\n",
    "    p[12] + p[8]*max(0,p[0]*input[3] + p[4]) + p[9]*max(0,p[1]*input[3] + p[5]) + p[10]*max(0,p[2]*input[3] + p[6]) + p[11]*max(0,p[3]*input[3] + p[7]) - output[3],\n",
    "    p[12] + p[8]*max(0,p[0]*input[4] + p[4]) + p[9]*max(0,p[1]*input[4] + p[5]) + p[10]*max(0,p[2]*input[4] + p[6]) + p[11]*max(0,p[3]*input[4] + p[7]) - output[4],\n",
    "    p[12] + p[8]*max(0,p[0]*input[5] + p[4]) + p[9]*max(0,p[1]*input[5] + p[5]) + p[10]*max(0,p[2]*input[5] + p[6]) + p[11]*max(0,p[3]*input[5] + p[7]) - output[5],\n",
    "    p[12] + p[8]*max(0,p[0]*input[6] + p[4]) + p[9]*max(0,p[1]*input[6] + p[5]) + p[10]*max(0,p[2]*input[6] + p[6]) + p[11]*max(0,p[3]*input[6] + p[7]) - output[6],\n",
    "    p[12] + p[8]*max(0,p[0]*input[7] + p[4]) + p[9]*max(0,p[1]*input[7] + p[5]) + p[10]*max(0,p[2]*input[7] + p[6]) + p[11]*max(0,p[3]*input[7] + p[7]) - output[7],\n",
    "    p[12] + p[8]*max(0,p[0]*input[8] + p[4]) + p[9]*max(0,p[1]*input[8] + p[5]) + p[10]*max(0,p[2]*input[8] + p[6]) + p[11]*max(0,p[3]*input[8] + p[7]) - output[8],\n",
    "    p[12] + p[8]*max(0,p[0]*input[9] + p[4]) + p[9]*max(0,p[1]*input[9] + p[5]) + p[10]*max(0,p[2]*input[9] + p[6]) + p[11]*max(0,p[3]*input[9] + p[7]) - output[9],\n",
    "    p[12] + p[8]*max(0,p[0]*input[10] + p[4]) + p[9]*max(0,p[1]*input[10] + p[5]) + p[10]*max(0,p[2]*input[10] + p[6]) + p[11]*max(0,p[3]*input[10] + p[7]) - output[10],\n",
    "    p[12] + p[8]*max(0,p[0]*input[10] + p[4]) + p[9]*max(0,p[1]*input[10] + p[5]) + p[10]*max(0,p[2]*input[10] + p[6]) + p[11]*max(0,p[3]*input[10] + p[7]) - output[10],\n",
    "    p[12] + p[8]*max(0,p[0]*input[10] + p[4]) + p[9]*max(0,p[1]*input[10] + p[5]) + p[10]*max(0,p[2]*input[10] + p[6]) + p[11]*max(0,p[3]*input[10] + p[7]) - output[10]]"
   ]
  },
  {
   "cell_type": "code",
   "execution_count": 6,
   "id": "b132e855-1ba7-4b52-b03c-7e6a17f3d5e9",
   "metadata": {},
   "outputs": [
    {
     "data": {
      "text/plain": [
       "array([ -0.35614338,   0.05176055,   0.04679073,   4.26739128,\n",
       "         1.06854914,   0.69438611,   0.33182292, -21.3355306 ,\n",
       "        -5.61759265, -20.45828289,   1.24519253,   0.46882705,\n",
       "        19.79543786])"
      ]
     },
     "execution_count": 6,
     "metadata": {},
     "output_type": "execute_result"
    }
   ],
   "source": [
    "initial_guess = np.random.normal(size =13)\n",
    "solution = fsolve(f, initial_guess)\n",
    "while not(np.all(np.isclose(f(solution),[0]*13)==True)):\n",
    "  new_guess = np.random.normal(size =13)\n",
    "\n",
    "  solution = fsolve(f, new_guess)\n",
    "solution"
   ]
  },
  {
   "cell_type": "code",
   "execution_count": 7,
   "id": "d117fb87-3a43-4fe5-9f8f-bc6c07dab12f",
   "metadata": {},
   "outputs": [
    {
     "data": {
      "text/plain": [
       "[4.218847493575595e-15,\n",
       " 7.105427357601002e-15,\n",
       " 6.217248937900877e-15,\n",
       " 3.552713678800501e-15,\n",
       " 8.881784197001252e-16,\n",
       " 4.440892098500626e-16,\n",
       " 0.0,\n",
       " 1.7763568394002505e-15,\n",
       " 2.6645352591003757e-15,\n",
       " -8.881784197001252e-16,\n",
       " 1.7763568394002505e-15,\n",
       " 1.7763568394002505e-15,\n",
       " 1.7763568394002505e-15]"
      ]
     },
     "execution_count": 7,
     "metadata": {},
     "output_type": "execute_result"
    }
   ],
   "source": [
    "f(solution)"
   ]
  },
  {
   "cell_type": "code",
   "execution_count": null,
   "id": "de7dcbf3-6f14-4615-b42c-a59b80a764cc",
   "metadata": {},
   "outputs": [],
   "source": []
  }
 ],
 "metadata": {
  "kernelspec": {
   "display_name": "Python 3 (ipykernel)",
   "language": "python",
   "name": "python3"
  },
  "language_info": {
   "codemirror_mode": {
    "name": "ipython",
    "version": 3
   },
   "file_extension": ".py",
   "mimetype": "text/x-python",
   "name": "python",
   "nbconvert_exporter": "python",
   "pygments_lexer": "ipython3",
   "version": "3.10.0"
  }
 },
 "nbformat": 4,
 "nbformat_minor": 5
}
